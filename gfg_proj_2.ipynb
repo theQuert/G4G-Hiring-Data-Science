{
 "cells": [
  {
   "cell_type": "code",
   "execution_count": 3,
   "id": "ce4f6adb-402d-486a-aaef-ccfb433ecb4b",
   "metadata": {},
   "outputs": [],
   "source": [
    "from googleapiclient.discovery import build\n",
    "import pandas as pd\n",
    "import numpy as np\n",
    "import matplotlib.pyplot as plt\n",
    "import json\n",
    "import seaborn as sns\n",
    "from dotenv import dotenv_values\n",
    "from datetime import date\n",
    "from dateutil.relativedelta import relativedelta"
   ]
  },
  {
   "cell_type": "code",
   "execution_count": 6,
   "id": "4a07a6a8-9053-4a33-9454-5256484a2ae5",
   "metadata": {},
   "outputs": [],
   "source": [
    "# extract channel details\n",
    "api_key = dotenv_values(\".env\")[\"API_KEY\"]\n",
    "# https://www.youtube.com/channel/UC0RhatS1pyxInC00YKjjBqQ\n",
    "channel_id = \"UC0RhatS1pyxInC00YKjjBqQ\"\n",
    "youtube = build(\"youtube\", \"v3\", developerKey=api_key)"
   ]
  },
  {
   "cell_type": "code",
   "execution_count": 116,
   "id": "08c58242-ac49-4adc-b6bf-f3ea14f980f6",
   "metadata": {},
   "outputs": [],
   "source": [
    "def channel_stats(youtube, channel_id):\n",
    "    request = youtube.channels().list(\n",
    "        part=\"snippet,contentDetails,statistics\",\n",
    "        id=channel_id\n",
    "    )\n",
    "    response = request.execute()\n",
    "    return response"
   ]
  },
  {
   "cell_type": "code",
   "execution_count": 117,
   "id": "a19d47ec-3294-4794-bb14-0ebfc2084910",
   "metadata": {},
   "outputs": [
    {
     "data": {
      "text/plain": [
       "{'kind': 'youtube#channelListResponse',\n",
       " 'etag': 'GWqn9GtyHBbNy7_Qg5693yZ0UKw',\n",
       " 'pageInfo': {'totalResults': 1, 'resultsPerPage': 5},\n",
       " 'items': [{'kind': 'youtube#channel',\n",
       "   'etag': 'leAIt7YNi_-Hbu3KxRV42nAjWSk',\n",
       "   'id': 'UC0RhatS1pyxInC00YKjjBqQ',\n",
       "   'snippet': {'title': 'GeeksforGeeks',\n",
       "    'description': 'Welcome to the official channel of GeeksforGeeks!\\n\\nOn our channel you will find hundreds of videos that will provide you with the insight and the knowledge to become an efficient coder. \\n\\nThese videos are inclusive of real life interview experiences of Geeks who are placed in product and service based companies, webinars and workshops with industry experts which are inclusive of a variety of topics pertaining to Computer Science and coding, informative videos and solutions to a variety of subjects and lastly, a music playlist for you Code Jamming sessions!\\n\\nSo come and make yourself comfortable in a world that always appreciates Geekiness!\\n',\n",
       "    'customUrl': '@geeksforgeeksvideos',\n",
       "    'publishedAt': '2015-06-11T15:27:03Z',\n",
       "    'thumbnails': {'default': {'url': 'https://yt3.ggpht.com/ytc/AOPolaQyvtrOcl96BkPopaNOT67CByuuBS7GqwiT_9fGxg=s88-c-k-c0x00ffffff-no-rj',\n",
       "      'width': 88,\n",
       "      'height': 88},\n",
       "     'medium': {'url': 'https://yt3.ggpht.com/ytc/AOPolaQyvtrOcl96BkPopaNOT67CByuuBS7GqwiT_9fGxg=s240-c-k-c0x00ffffff-no-rj',\n",
       "      'width': 240,\n",
       "      'height': 240},\n",
       "     'high': {'url': 'https://yt3.ggpht.com/ytc/AOPolaQyvtrOcl96BkPopaNOT67CByuuBS7GqwiT_9fGxg=s800-c-k-c0x00ffffff-no-rj',\n",
       "      'width': 800,\n",
       "      'height': 800}},\n",
       "    'localized': {'title': 'GeeksforGeeks',\n",
       "     'description': 'Welcome to the official channel of GeeksforGeeks!\\n\\nOn our channel you will find hundreds of videos that will provide you with the insight and the knowledge to become an efficient coder. \\n\\nThese videos are inclusive of real life interview experiences of Geeks who are placed in product and service based companies, webinars and workshops with industry experts which are inclusive of a variety of topics pertaining to Computer Science and coding, informative videos and solutions to a variety of subjects and lastly, a music playlist for you Code Jamming sessions!\\n\\nSo come and make yourself comfortable in a world that always appreciates Geekiness!\\n'},\n",
       "    'country': 'IN'},\n",
       "   'contentDetails': {'relatedPlaylists': {'likes': '',\n",
       "     'uploads': 'UU0RhatS1pyxInC00YKjjBqQ'}},\n",
       "   'statistics': {'viewCount': '65271210',\n",
       "    'subscriberCount': '641000',\n",
       "    'hiddenSubscriberCount': False,\n",
       "    'videoCount': '2562'}}]}"
      ]
     },
     "execution_count": 117,
     "metadata": {},
     "output_type": "execute_result"
    }
   ],
   "source": [
    "channel_stats(youtube, channel_id)"
   ]
  },
  {
   "cell_type": "markdown",
   "id": "08b18033-e2dc-4d24-968a-525c504861da",
   "metadata": {},
   "source": [
    "### 1. Number of videos in the past 6 months from the start date. Must mention the dates in the solution.\n",
    "#### Ans:\n",
    "There are **201** videos uploaded in the last 6 months.\n",
    "The video ids and dates are exported to ``./6_months_video.csv``"
   ]
  },
  {
   "cell_type": "code",
   "execution_count": 120,
   "id": "53e0832c-d172-4e76-bacd-56b5dcf1b7af",
   "metadata": {},
   "outputs": [
    {
     "data": {
      "text/plain": [
       "{'kind': 'youtube#channel',\n",
       " 'etag': 'leAIt7YNi_-Hbu3KxRV42nAjWSk',\n",
       " 'id': 'UC0RhatS1pyxInC00YKjjBqQ',\n",
       " 'snippet': {'title': 'GeeksforGeeks',\n",
       "  'description': 'Welcome to the official channel of GeeksforGeeks!\\n\\nOn our channel you will find hundreds of videos that will provide you with the insight and the knowledge to become an efficient coder. \\n\\nThese videos are inclusive of real life interview experiences of Geeks who are placed in product and service based companies, webinars and workshops with industry experts which are inclusive of a variety of topics pertaining to Computer Science and coding, informative videos and solutions to a variety of subjects and lastly, a music playlist for you Code Jamming sessions!\\n\\nSo come and make yourself comfortable in a world that always appreciates Geekiness!\\n',\n",
       "  'customUrl': '@geeksforgeeksvideos',\n",
       "  'publishedAt': '2015-06-11T15:27:03Z',\n",
       "  'thumbnails': {'default': {'url': 'https://yt3.ggpht.com/ytc/AOPolaQyvtrOcl96BkPopaNOT67CByuuBS7GqwiT_9fGxg=s88-c-k-c0x00ffffff-no-rj',\n",
       "    'width': 88,\n",
       "    'height': 88},\n",
       "   'medium': {'url': 'https://yt3.ggpht.com/ytc/AOPolaQyvtrOcl96BkPopaNOT67CByuuBS7GqwiT_9fGxg=s240-c-k-c0x00ffffff-no-rj',\n",
       "    'width': 240,\n",
       "    'height': 240},\n",
       "   'high': {'url': 'https://yt3.ggpht.com/ytc/AOPolaQyvtrOcl96BkPopaNOT67CByuuBS7GqwiT_9fGxg=s800-c-k-c0x00ffffff-no-rj',\n",
       "    'width': 800,\n",
       "    'height': 800}},\n",
       "  'localized': {'title': 'GeeksforGeeks',\n",
       "   'description': 'Welcome to the official channel of GeeksforGeeks!\\n\\nOn our channel you will find hundreds of videos that will provide you with the insight and the knowledge to become an efficient coder. \\n\\nThese videos are inclusive of real life interview experiences of Geeks who are placed in product and service based companies, webinars and workshops with industry experts which are inclusive of a variety of topics pertaining to Computer Science and coding, informative videos and solutions to a variety of subjects and lastly, a music playlist for you Code Jamming sessions!\\n\\nSo come and make yourself comfortable in a world that always appreciates Geekiness!\\n'},\n",
       "  'country': 'IN'},\n",
       " 'contentDetails': {'relatedPlaylists': {'likes': '',\n",
       "   'uploads': 'UU0RhatS1pyxInC00YKjjBqQ'}},\n",
       " 'statistics': {'viewCount': '65271210',\n",
       "  'subscriberCount': '641000',\n",
       "  'hiddenSubscriberCount': False,\n",
       "  'videoCount': '2562'}}"
      ]
     },
     "execution_count": 120,
     "metadata": {},
     "output_type": "execute_result"
    }
   ],
   "source": [
    "all_stats = channel_stats(youtube, channel_id)\n",
    "main_info = all_stats[\"items\"][0]\n",
    "main_info"
   ]
  },
  {
   "cell_type": "code",
   "execution_count": 142,
   "id": "36b90cb3-d47c-4c47-b45b-e9b906c8c934",
   "metadata": {},
   "outputs": [],
   "source": [
    "# extract all videos\n",
    "# id_all_vid = main_info[\"contentDetails\"][\"relatedPlaylists\"][\"uploads\"]\n",
    "playlist_all_id = main_info[\"contentDetails\"][\"relatedPlaylists\"][\"uploads\"]\n",
    "def get_video_in_channel(youtube, list_id):\n",
    "    request = youtube.playlistItems().list(\n",
    "        part=\"contentDetails\",\n",
    "        playlistId=list_id,\n",
    "        maxResults=50\n",
    "    )\n",
    "    response = request.execute()\n",
    "    video_ids, published_times = [], []\n",
    "    for i in range(len(response[\"items\"])):\n",
    "        video_ids.append(response[\"items\"][i][\"contentDetails\"][\"videoId\"])\n",
    "        raw_time = response[\"items\"][i][\"contentDetails\"][\"videoPublishedAt\"]\n",
    "        published_time = datetime.fromisoformat(raw_time.replace(\"Z\", \"+00:00\")).date()\n",
    "        published_times.append(published_time)\n",
    "    next_page_token = response.get(\"nextPageToken\")\n",
    "    more_pages = True\n",
    "    while more_pages:\n",
    "        if next_page_token is None:\n",
    "            more_pages = False\n",
    "        else:\n",
    "            request = youtube.playlistItems().list(\n",
    "                        part=\"contentDetails\",\n",
    "                        playlistId=list_id,\n",
    "                        maxResults=50,\n",
    "                        pageToken=next_page_token)\n",
    "            response = request.execute()\n",
    "            for i in range(len(response[\"items\"])):\n",
    "                video_ids.append(response[\"items\"][i][\"contentDetails\"][\"videoId\"])\n",
    "                raw_time = response[\"items\"][i][\"contentDetails\"][\"videoPublishedAt\"]\n",
    "                published_time = datetime.fromisoformat(raw_time.replace(\"Z\", \"+00:00\")).date()\n",
    "                published_times.append(published_time)\n",
    "            next_page_token = response.get(\"nextPageToken\")\n",
    "    return video_ids, published_times\n",
    "    # return response"
   ]
  },
  {
   "cell_type": "code",
   "execution_count": 143,
   "id": "d0c0485e-5d72-4694-b2c2-edb98bee1ccc",
   "metadata": {},
   "outputs": [],
   "source": [
    "playlist_all_id = main_info[\"contentDetails\"][\"relatedPlaylists\"][\"uploads\"]\n",
    "video_ids, published_times = get_video_in_channel(youtube, playlist_all_id)"
   ]
  },
  {
   "cell_type": "code",
   "execution_count": 150,
   "id": "ed052ab6-7711-40ed-b106-3cd231b051ee",
   "metadata": {},
   "outputs": [
    {
     "name": "stdout",
     "output_type": "stream",
     "text": [
      "The are 201 videos in the past 6 months\n"
     ]
    }
   ],
   "source": [
    "# get the start date and end date in datetime format\n",
    "current_date = datetime.today().date()\n",
    "start_date = current_date - relativedelta(months=6)\n",
    "# extract the published date between conditions\n",
    "get_ids = [idx for idx in range(len(published_times)) if published_times[idx]>start_date and published_times[idx]<current_date]\n",
    "print(f\"The are {len(get_ids)} videos in the past 6 months\") \n",
    "get_dates = [published_times[idx] for idx in get_ids]\n",
    "get_video_ids = [video_ids[idx] for idx in get_ids]\n",
    "pd.DataFrame({\"Date\": get_dates, \"Video ID\": get_video_ids}).to_csv(\"./6_months_video.csv\", index=False)"
   ]
  },
  {
   "cell_type": "markdown",
   "id": "09fdb1d3-48cb-4600-89c8-b0947127b83f",
   "metadata": {},
   "source": [
    "### 2. Create a pandas data frame with columns name as videos title, views, Length of videos, and videos link\n",
    "#### Ans:\n",
    "**Exported dataframe is store at** ``./videos_details.csv`` "
   ]
  },
  {
   "cell_type": "code",
   "execution_count": 182,
   "id": "49968aac-ad5e-4133-9fec-5ff90773f6f5",
   "metadata": {},
   "outputs": [],
   "source": [
    "titles, views, lengths_vid, vid_links = [], [], [], []\n",
    "for video_id in get_video_ids:\n",
    "    request = youtube.videos().list(\n",
    "        part=\"snippet,contentDetails,statistics\",\n",
    "        id=video_id\n",
    "    )\n",
    "    response = request.execute()\n",
    "    titles.append(response[\"items\"][0][\"snippet\"][\"title\"])\n",
    "    views.append(response[\"items\"][0][\"statistics\"][\"viewCount\"])\n",
    "    lengths_vid.append(response[\"items\"][0][\"contentDetails\"][\"duration\"].replace(\"PT\", \"\").replace(\"H\", \":\").replace(\"M\", \":\").replace(\"S\", \"\"))\n",
    "    vid_links.append(f\"https://www.youtube.com/watch?v={video_id}\")\n",
    "pd.DataFrame({\"Videos title\": titles, \"Views\": views, \"Length of videos\": lengths_vid, \"Videos link\": vid_links}).to_csv(\"./videos_details.csv\", index=False)\n"
   ]
  },
  {
   "cell_type": "markdown",
   "id": "ae095c5c-36fd-4cfb-91b8-d6903f7f41c2",
   "metadata": {},
   "source": [
    "### 3. Name the most viewed topics in the past 6 months.\n",
    "#### Ans:\n",
    "**Learn System Design with GeeksforGeeks** with **118340** views"
   ]
  },
  {
   "cell_type": "code",
   "execution_count": 197,
   "id": "e711987b-1fb7-431f-8b05-d5a0b3d64d74",
   "metadata": {},
   "outputs": [],
   "source": [
    "Counts, titles = [], []\n",
    "for video_id in get_video_ids:\n",
    "    request = youtube.videos().list(\n",
    "        part=\"snippet,contentDetails,statistics\",\n",
    "        id=video_id\n",
    "    )\n",
    "    response = request.execute()\n",
    "    Counts.append(response[\"items\"][0][\"statistics\"][\"viewCount\"])\n",
    "    titles.append(response[\"items\"][0][\"snippet\"][\"title\"])\n",
    "df = pd.DataFrame({\"Topics\": titles, \"Views\": viewCounts})"
   ]
  },
  {
   "cell_type": "code",
   "execution_count": 220,
   "id": "0e8b02b0-c51b-4018-bf71-8c6e4ce9f5cb",
   "metadata": {},
   "outputs": [
    {
     "data": {
      "text/plain": [
       "('Learn System Design with GeeksforGeeks', 118340)"
      ]
     },
     "execution_count": 220,
     "metadata": {},
     "output_type": "execute_result"
    }
   ],
   "source": [
    "views = list(df.Views)\n",
    "views = [int(view) for view in views]\n",
    "df.iloc[views.index(max(views)), 0], max(views)"
   ]
  },
  {
   "cell_type": "markdown",
   "id": "daf6c8bf-d68e-4ec9-933c-3a9055461b3d",
   "metadata": {},
   "source": [
    "### 4. Name the topics with the highest video length.\n",
    "### Ans:\n",
    "**SDE Preparation in 3 hours** with 2.92 hours long."
   ]
  },
  {
   "cell_type": "code",
   "execution_count": 242,
   "id": "ef51cdf2-bb2a-4de4-ae96-b7abe83aae8b",
   "metadata": {},
   "outputs": [
    {
     "name": "stdout",
     "output_type": "stream",
     "text": [
      "<class 'pandas.core.frame.DataFrame'>\n",
      "RangeIndex: 201 entries, 0 to 200\n",
      "Data columns (total 4 columns):\n",
      " #   Column            Non-Null Count  Dtype \n",
      "---  ------            --------------  ----- \n",
      " 0   Videos title      201 non-null    object\n",
      " 1   Views             201 non-null    int64 \n",
      " 2   Length of videos  201 non-null    object\n",
      " 3   Videos link       201 non-null    object\n",
      "dtypes: int64(1), object(3)\n",
      "memory usage: 6.4+ KB\n"
     ]
    }
   ],
   "source": [
    "df = pd.read_csv(\"./videos_details.csv\")\n",
    "df.info()"
   ]
  },
  {
   "cell_type": "code",
   "execution_count": 243,
   "id": "40a2a901-8d47-4233-a575-6a1e76edb77f",
   "metadata": {},
   "outputs": [],
   "source": [
    "lengths = [df.iloc[idx, 2] for idx in range(len(df))]\n",
    "three_ele_idx = [idx for idx in range(len(lengths)) if len(lengths[idx].split(\":\"))==3] # global idx"
   ]
  },
  {
   "cell_type": "code",
   "execution_count": 258,
   "id": "15deea9a-046b-4aae-92d4-57b5bba83e7c",
   "metadata": {},
   "outputs": [],
   "source": [
    "total_secs = []\n",
    "for idx in three_ele_idx:\n",
    "    hour = int(lengths[idx].split(\":\")[0])*3600\n",
    "    try:\n",
    "        mins = int(lengths[idx].split(\":\")[1])*60\n",
    "    except: mins = 0\n",
    "    try:\n",
    "        secs = int(lengths[idx].split(\":\")[2])\n",
    "    except: secs==0\n",
    "    total = hour + mins + secs\n",
    "    total_secs.append(total)\n"
   ]
  },
  {
   "cell_type": "code",
   "execution_count": 261,
   "id": "3594d397-39bd-48e3-b715-b8333e302955",
   "metadata": {},
   "outputs": [
    {
     "data": {
      "text/plain": [
       "'SDE Preparation in 3 hours'"
      ]
     },
     "execution_count": 261,
     "metadata": {},
     "output_type": "execute_result"
    }
   ],
   "source": [
    "total_secs.index(max(total_secs)) # the index with maximum lengths is 34\n",
    "df.iloc[three_ele_idx[34], 0]"
   ]
  },
  {
   "cell_type": "markdown",
   "id": "229f1c58-1d87-45ad-9052-a145dc04bcdb",
   "metadata": {},
   "source": [
    "### 5. Make a comparison between the number of views and video length using a Graph."
   ]
  },
  {
   "cell_type": "code",
   "execution_count": 270,
   "id": "6f266ae3-e532-45f4-982a-7a65dcc361a0",
   "metadata": {},
   "outputs": [],
   "source": [
    "df = pd.read_csv(\"./videos_details.csv\")\n",
    "# convert the lengths to minutes\n",
    "lengths, views = [], []\n",
    "for idx in range(len(df)):\n",
    "    if len(df.iloc[idx, 2].split(\":\"))==2: # %m:%s\n",
    "        mins = int(df.iloc[idx, 2].split(\":\")[0])*60\n",
    "        try:\n",
    "            secs = int(df.iloc[idx, 2].split(\":\")[1])\n",
    "        except: secs = 0\n",
    "        total = mins + secs\n",
    "    elif len(df.iloc[idx, 2].split(\":\"))==3:\n",
    "        hour = int(df.iloc[idx, 2].split(\":\")[0])*3600\n",
    "        try:\n",
    "            mins = int(df.iloc[idx, 2].split(\":\")[1])*60\n",
    "        except: mins = 0\n",
    "        try:\n",
    "            secs = int(df.iloc[idx, 2].split(\":\")[2])\n",
    "        except: secs==0\n",
    "        total = hour + mins + secs       \n",
    "        \n",
    "    lengths.append(total)\n",
    "    view = df.iloc[idx, 1]\n",
    "    views.append(view)\n"
   ]
  },
  {
   "cell_type": "code",
   "execution_count": 278,
   "id": "d50ddbf1-5caf-4dc5-b48c-d43ce1246eed",
   "metadata": {},
   "outputs": [
    {
     "name": "stderr",
     "output_type": "stream",
     "text": [
      "No artists with labels found to put in legend.  Note that artists whose label start with an underscore are ignored when legend() is called with no argument.\n"
     ]
    },
    {
     "data": {
      "image/png": "[encoded data removed]",
      "text/plain": [
       "<Figure size 640x480 with 1 Axes>"
      ]
     },
     "metadata": {},
     "output_type": "display_data"
    }
   ],
   "source": [
    "fig, ax = plt.subplots()\n",
    "ax.scatter(views, lengths, c=\"green\", alpha=0.5, marker=r'$\\clubsuit$',\n",
    "           label=\"\")\n",
    "ax.set_xlabel(\"#Views\")\n",
    "ax.set_ylabel(\"Lengths of Videos (seconds)\")\n",
    "ax.legend()\n",
    "plt.show()"
   ]
  }
 ],
 "metadata": {
  "kernelspec": {
   "display_name": "gfg-env",
   "language": "python",
   "name": "gfg-env"
  },
  "language_info": {
   "codemirror_mode": {
    "name": "ipython",
    "version": 3
   },
   "file_extension": ".py",
   "mimetype": "text/x-python",
   "name": "python",
   "nbconvert_exporter": "python",
   "pygments_lexer": "ipython3",
   "version": "3.9.15"
  }
 },
 "nbformat": 4,
 "nbformat_minor": 5
}
