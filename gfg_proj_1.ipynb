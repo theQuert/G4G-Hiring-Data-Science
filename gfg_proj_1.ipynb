{
 "cells": [
  {
   "cell_type": "code",
   "execution_count": 27,
   "id": "72c62a74-a6cf-4e77-921c-ac9a72c2a982",
   "metadata": {},
   "outputs": [
    {
     "name": "stdout",
     "output_type": "stream",
     "text": [
      "/home/imlab/quert-data\n"
     ]
    }
   ],
   "source": [
    "%cd /home/imlab/quert-data"
   ]
  },
  {
   "cell_type": "code",
   "execution_count": 28,
   "id": "49f7307c-c543-4d51-b246-1ce74237c9f1",
   "metadata": {},
   "outputs": [],
   "source": [
    "import numpy as np\n",
    "import pandas as pd\n",
    "import matplotlib.pyplot as plt\n",
    "import json"
   ]
  },
  {
   "cell_type": "code",
   "execution_count": 29,
   "id": "0fcaed6b-78b2-4059-b995-1b0e4c60e91c",
   "metadata": {},
   "outputs": [],
   "source": [
    "with open(\"./data.json\") as f:\n",
    "    data = json.load(f)"
   ]
  },
  {
   "cell_type": "markdown",
   "id": "4974bc85-b419-4b3f-84e6-2b98492b07f0",
   "metadata": {},
   "source": [
    "### 1. How many cities (including subregions) where Swiggy is having its restaurants listed? \n",
    "#### Ans: **164425** (#subregions + #cities)"
   ]
  },
  {
   "cell_type": "code",
   "execution_count": 123,
   "id": "d0d89442-ade9-473f-9e89-ad0d494775ae",
   "metadata": {
    "scrolled": true
   },
   "outputs": [
    {
     "data": {
      "text/plain": [
       "164425"
      ]
     },
     "execution_count": 123,
     "metadata": {},
     "output_type": "execute_result"
    }
   ],
   "source": [
    "cities = list(data.keys())\n",
    "num_all = []\n",
    "for city in cities:\n",
    "    try:\n",
    "        region_codes = list(data[city][\"restaurants\"].keys())\n",
    "        region_codes = [code for code in region_codes if code!=\"link\"]\n",
    "        num_all.append(len(region_codes)+1) # we have to add \"#subregions + #city\n",
    "    except:\n",
    "        sub_names = list(data[city].keys())\n",
    "        sub_names = [sub_name for sub_name in sub_names if sub_name!=\"link\"]\n",
    "        for sub_name in sub_names:\n",
    "            regions = data[city][sub_name][\"restaurants\"].keys()\n",
    "            num_all.append(len(regions)+1)\n",
    "np.sum(num_all)"
   ]
  },
  {
   "cell_type": "markdown",
   "id": "ae23f02e-446e-40bd-a3bf-c45b456f9f6e",
   "metadata": {},
   "source": [
    "### 2. How many cities  (don't include subregions) where Swiggy is having their restaurants listed?\n",
    "#### Ans: **623**"
   ]
  },
  {
   "cell_type": "code",
   "execution_count": 124,
   "id": "97dc2e7e-a3a7-4fba-b846-8e9997fcc93f",
   "metadata": {},
   "outputs": [
    {
     "data": {
      "text/plain": [
       "623"
      ]
     },
     "execution_count": 124,
     "metadata": {},
     "output_type": "execute_result"
    }
   ],
   "source": [
    "cities = list(data.keys())\n",
    "len(cities)"
   ]
  },
  {
   "cell_type": "markdown",
   "id": "a6179345-dc4c-4f45-bffe-99be3b645f6a",
   "metadata": {},
   "source": [
    "### 3. The Subregion of Delhi with the maximum number of restaurants listed on Swiggy?\n",
    "#### Ans: **Indirapuram**"
   ]
  },
  {
   "cell_type": "code",
   "execution_count": 125,
   "id": "844a0cb1-9062-493b-8d59-af3a85570616",
   "metadata": {},
   "outputs": [
    {
     "name": "stdout",
     "output_type": "stream",
     "text": [
      "Indirapuram\n"
     ]
    }
   ],
   "source": [
    "# find the index of Delhi\n",
    "idx = cities.index(\"Delhi\")\n",
    "sub_names = list(data[\"Delhi\"].keys())\n",
    "sub_names = [sub_name for sub_name in sub_names if sub_name!=\"link\"]\n",
    "num_all = []\n",
    "for name in sub_names:\n",
    "    num_all.append(len(data[\"Delhi\"][name][\"restaurants\"].keys()))\n",
    "assert len(sub_names)==len(num_all)\n",
    "df = dict(zip(sub_names, num_all))\n",
    "print(max(df, key=df.get))"
   ]
  },
  {
   "cell_type": "markdown",
   "id": "15a6dcd7-7dfc-47a9-bb44-440bbddce0b0",
   "metadata": {},
   "source": [
    "### 4. Name the top 5 Most Expensive Cities in the Datasets.\n",
    "#### Ans: \n",
    "- **Ahmedabad**\n",
    "- **Agra**\n",
    "- **Allahabad**\n",
    "- **Aizawl**\n",
    "- **Ajmer**"
   ]
  },
  {
   "cell_type": "code",
   "execution_count": 126,
   "id": "d2d4084a-6f56-45ef-8732-dd8d2f33f1e0",
   "metadata": {},
   "outputs": [],
   "source": [
    "error_cities, city_cost, city_names = [], [], []\n",
    "for city in cities:\n",
    "    try:\n",
    "        region_cost = []\n",
    "        region_codes = list(data[city][\"restaurants\"].keys())\n",
    "        region_codes = [code for code in region_codes if code!=\"link\"]\n",
    "        for region_code in region_codes:\n",
    "            try:\n",
    "                cost = int(data[city][\"restaurants\"][region_code][\"cost\"].split()[-1])\n",
    "            except:\n",
    "                cost = 0\n",
    "            region_cost.append(cost)\n",
    "        city_cost.append(np.mean(region_cost))\n",
    "        city_names.append(city)\n",
    "    except:\n",
    "        # error_cities.append(city) # we have 78 cities to handle\n",
    "        sub_names = list(data[city].keys())\n",
    "        sub_names = [sub_name for sub_name in sub_names if sub_name!=\"link\"]\n",
    "        for sub_name in sub_names:\n",
    "            regions = data[city][sub_name][\"restaurants\"].keys()\n",
    "            region_cost = []\n",
    "            for region in regions:\n",
    "                try:\n",
    "                    cost = int(data[city][sub_name][\"restaurants\"][region][\"cost\"].split()[-1])\n",
    "                except:\n",
    "                    cost = 0\n",
    "                region_cost.append(cost)\n",
    "            city_cost.append(np.mean(region_cost))\n",
    "            city_names.append(city)\n",
    "    df = dict(zip(city_names, city_cost))"
   ]
  },
  {
   "cell_type": "code",
   "execution_count": 127,
   "id": "b89d0e8e-0f23-4515-bbbe-e77334679426",
   "metadata": {},
   "outputs": [
    {
     "data": {
      "text/plain": [
       "['Ahmedabad', 'Agra', 'Allahabad', 'Aizawl', 'Ajmer']"
      ]
     },
     "execution_count": 127,
     "metadata": {},
     "output_type": "execute_result"
    }
   ],
   "source": [
    "sorted_items = sorted(df.items(), key=lambda x: x[1], reverse=True)\n",
    "top_5_cities = [item[0] for item in sorted_items[:5]]\n",
    "top_5_cities"
   ]
  },
  {
   "cell_type": "markdown",
   "id": "8410bae5-a14b-450e-8632-766984e01f28",
   "metadata": {},
   "source": [
    "### 5. List out the top 5 Restaurants with Maximum & minimum ratings throughout the dataset.\n",
    "#### Top 5 restauarants with maximum ratings: \n",
    "- **Pablo Premium Kitchen**\n",
    "- **Kavya Bakery**\n",
    "- **Milan Restaurant**\n",
    "- **Mahi Fast Food**\n",
    "- **Maa Ki Rasoi**\n",
    "#### Top 5 restauarants with minumum ratings: \n",
    "- **AB FOODS POINT**\n",
    "- **Janta Sweet House'**\n",
    "- **theka coffee desi'**\n",
    "- **Singh Hut'**\n",
    "- **GRILL MASTERS**"
   ]
  },
  {
   "cell_type": "code",
   "execution_count": 128,
   "id": "739ff95b-c13b-41e7-9abf-38279f82c9f9",
   "metadata": {},
   "outputs": [],
   "source": [
    "# Top 5 restaurants with Maximum ratings\n",
    "res, rating = [], []\n",
    "for city in cities:\n",
    "    try:\n",
    "        region_codes = list(data[city][\"restaurants\"].keys())\n",
    "        region_codes = [code for code in region_codes if code!=\"link\"]\n",
    "        for region_code in region_codes:\n",
    "            res_name = data[city][\"restaurants\"][region_code][\"name\"]\n",
    "            rating_for_res = data[city][\"restaurants\"][region_code][\"rating\"]\n",
    "            if rating_for_res== \"--\" or \"NA\": rating_for_res = 0\n",
    "            res.append(res_name)\n",
    "            rating.append(float(rating_for_res))\n",
    "    except:\n",
    "        sub_names = list(data[city].keys())\n",
    "        sub_names = [sub_name for sub_name in sub_names if sub_name!=\"link\"]\n",
    "        for sub_name in sub_names:\n",
    "            regions = data[city][sub_name][\"restaurants\"].keys()\n",
    "            for region in regions:\n",
    "                try:\n",
    "                    rating_for_res = data[city][sub_name][\"restaurants\"][region][\"rating\"]\n",
    "                    res_name = data[city][sub_name][\"restaurants\"][region][\"name\"]\n",
    "                    if rating_for_res== \"--\": rating_for_res = 0\n",
    "                    rating.append(float(rating_for_res))\n",
    "                    res.append(res_name)\n",
    "                except: pass\n",
    "    df_res_rates_all = dict(zip(res, rating)) # this shows the name of restaurants are unique"
   ]
  },
  {
   "cell_type": "code",
   "execution_count": 129,
   "id": "33b3197e-cfce-4a7d-943a-144798082d3a",
   "metadata": {},
   "outputs": [],
   "source": [
    "top_sorted_items = sorted(df_res_rates_all.items(), key=lambda x: x[1], reverse=True)\n",
    "low_sorted_items = sorted(df_res_rates_all.items(), key=lambda x: x[1], reverse=False)\n",
    "top_5_res = [item[0] for item in top_sorted_items[:5]]\n",
    "low_5_res = [item[0] for item in low_sorted_items[:5]]"
   ]
  },
  {
   "cell_type": "code",
   "execution_count": 130,
   "id": "cd3d4703-1c14-48b2-9e9e-cde964a0ceb6",
   "metadata": {},
   "outputs": [
    {
     "data": {
      "text/plain": [
       "(['Pablo Premium Kitchen',\n",
       "  'Kavya Bakery',\n",
       "  'Milan Restaurant',\n",
       "  'Mahi Fast Food',\n",
       "  'Maa Ki Rasoi'],\n",
       " ['AB FOODS POINT',\n",
       "  'Janta Sweet House',\n",
       "  'theka coffee desi',\n",
       "  'Singh Hut',\n",
       "  'GRILL MASTERS'])"
      ]
     },
     "execution_count": 130,
     "metadata": {},
     "output_type": "execute_result"
    }
   ],
   "source": [
    "top_5_res, low_5_res"
   ]
  },
  {
   "cell_type": "markdown",
   "id": "12f8ba47-467b-472a-83d6-d26c562f3d47",
   "metadata": {},
   "source": [
    "### 6. Name of top 5 cities with the highest number of restaurants listed.\n",
    "- **Bangalore**\n",
    "- **Delhi**\n",
    "- **Pune**\n",
    "- **Hyderabad**\n",
    "- **Chennai**"
   ]
  },
  {
   "cell_type": "code",
   "execution_count": 131,
   "id": "b88fb322-228e-43b9-b201-8601e669a371",
   "metadata": {},
   "outputs": [],
   "source": [
    "city_names, num_of_res = [], []\n",
    "for city in cities:\n",
    "    try:\n",
    "        sub_names = list(data[city][\"restaurants\"].keys())\n",
    "        sub_names = [sub_name for sub_name in sub_names if sub_name!=\"link\"]\n",
    "        cnt = len(sub_names)\n",
    "        if cnt == \"NA\" or \"--\": cnt = 0\n",
    "        city_names.append(city)\n",
    "        num_of_res.append(cnt)\n",
    "    except:\n",
    "        cnt = 0\n",
    "        sub_names = list(data[city].keys())\n",
    "        sub_names = [sub_name for sub_name in sub_names if sub_name!=\"link\"]\n",
    "        for sub_name in sub_names:\n",
    "            regions = data[city][sub_name][\"restaurants\"].keys()\n",
    "            cnt+=len(regions)\n",
    "        city_names.append(city)\n",
    "        num_of_res.append(cnt)\n",
    "df = dict(zip(city_names, num_of_res))"
   ]
  },
  {
   "cell_type": "code",
   "execution_count": 132,
   "id": "39f0e92c-6648-49e1-b9b8-51d779cd0e59",
   "metadata": {},
   "outputs": [
    {
     "data": {
      "text/plain": [
       "['Bangalore', 'Delhi', 'Pune', 'Hyderabad', 'Chennai']"
      ]
     },
     "execution_count": 132,
     "metadata": {},
     "output_type": "execute_result"
    }
   ],
   "source": [
    "# sort the dict, and get the name of cities with top 5 number of restaurants\n",
    "sorted_df = sorted(df.items(), key=lambda x: x[1], reverse=True)\n",
    "top_5_cities = [item[0] for item in sorted_df[:5]]\n",
    "top_5_cities"
   ]
  },
  {
   "cell_type": "markdown",
   "id": "b98781da-3b47-44eb-b8ac-1ca32af29b61",
   "metadata": {},
   "source": [
    "### 7. Top 10 cities as per the number of restaurants listed?\n",
    "- **Bangalore**\n",
    "- **Delhi**\n",
    "- **Pune**\n",
    "- **Hyderabad**\n",
    "- **Chennai**\n",
    "- **Kolkata**\n",
    "- **Mumbai**\n",
    "- **Jaipur**\n",
    "- **Gurgaon**\n",
    "- **Ahmedabad**"
   ]
  },
  {
   "cell_type": "code",
   "execution_count": 133,
   "id": "2cc0385b-f599-4967-8f40-8b5e41b3c3f7",
   "metadata": {},
   "outputs": [
    {
     "data": {
      "text/plain": [
       "['Bangalore',\n",
       " 'Delhi',\n",
       " 'Pune',\n",
       " 'Hyderabad',\n",
       " 'Chennai',\n",
       " 'Kolkata',\n",
       " 'Mumbai',\n",
       " 'Jaipur',\n",
       " 'Gurgaon',\n",
       " 'Ahmedabad']"
      ]
     },
     "execution_count": 133,
     "metadata": {},
     "output_type": "execute_result"
    }
   ],
   "source": [
    "top_10_cities = [item[0] for item in sorted_df[:10]]\n",
    "top_10_cities"
   ]
  },
  {
   "cell_type": "markdown",
   "id": "cd9edc9a-6959-49f9-a18f-74d12e403c54",
   "metadata": {},
   "source": [
    "### 8. Name the top 5 Most Popular Restaurants in Pune.\n",
    "#### Ans:\n",
    "- **The Samosa Man**\n",
    "- **HRX by Eatfit**\n",
    "- **Miss Gelato**\n",
    "- **Kushta by Semporo**\n",
    "- **Roll Over Biryani**"
   ]
  },
  {
   "cell_type": "code",
   "execution_count": 134,
   "id": "93d3c261-8780-4491-a0d0-a33d2f7de0cd",
   "metadata": {},
   "outputs": [],
   "source": [
    "city = \"Pune\"\n",
    "rating, res = [], []\n",
    "sub_names = list(data[city].keys())\n",
    "sub_names = [sub_name for sub_name in sub_names if sub_name!=\"link\"]\n",
    "for sub_name in sub_names:\n",
    "    regions = data[city][sub_name][\"restaurants\"].keys()\n",
    "    for region in regions:\n",
    "        try:\n",
    "            rating_for_res = data[city][sub_name][\"restaurants\"][region][\"rating\"]\n",
    "            res_name = data[city][sub_name][\"restaurants\"][region][\"name\"]\n",
    "            if rating_for_res== \"--\": rating_for_res = 0\n",
    "            rating.append(float(rating_for_res))\n",
    "            res.append(res_name)\n",
    "        except: pass\n",
    "df = dict(zip(res, rating))"
   ]
  },
  {
   "cell_type": "code",
   "execution_count": 135,
   "id": "ba3cf533-983b-45e7-82d0-92295ed1a1e5",
   "metadata": {},
   "outputs": [
    {
     "data": {
      "text/plain": [
       "['The Samosa Man',\n",
       " 'HRX by Eatfit',\n",
       " 'Miss Gelato',\n",
       " 'Kushta by Semporo',\n",
       " 'Roll Over Biryani']"
      ]
     },
     "execution_count": 135,
     "metadata": {},
     "output_type": "execute_result"
    }
   ],
   "source": [
    "sorted_df = sorted(df.items(), key=lambda x: x[1], reverse=True)\n",
    "top_5_in_Pune = [item[0] for item in sorted_df[:5]]\n",
    "top_5_in_Pune"
   ]
  },
  {
   "cell_type": "markdown",
   "id": "b081e65e-fe91-4d6b-a71e-e6e2903d1365",
   "metadata": {},
   "source": [
    "### 9. Which SubRegion in Delhi is having the least expensive restaurant in terms of cost?\n",
    "The least cost of the following subregions is **0**\n",
    "- **South Extension**\n",
    "- **Malviya Nagar**\n",
    "- **Dwarka** \n",
    "- **Chattarpur**\n",
    "- **Rohini**"
   ]
  },
  {
   "cell_type": "code",
   "execution_count": 136,
   "id": "a3c66a5e-66d6-4c79-a457-31f68eba0f46",
   "metadata": {},
   "outputs": [],
   "source": [
    "city = \"Delhi\"\n",
    "region_costs, region_names = [], []\n",
    "sub_names = list(data[city].keys())\n",
    "sub_names = [sub_name for sub_name in sub_names if sub_name!=\"link\"]\n",
    "for sub_name in sub_names:\n",
    "    regions = data[city][sub_name][\"restaurants\"].keys()\n",
    "    for region in regions:\n",
    "        try:\n",
    "            cost = int(data[city][sub_name][\"restaurants\"][region][\"cost\"].split()[-1])\n",
    "        except:\n",
    "            cost = 0\n",
    "        region_costs.append(cost)\n",
    "        region_names.append(sub_name)\n",
    "# df = dict(zip(region_names, region_costs))"
   ]
  },
  {
   "cell_type": "code",
   "execution_count": 137,
   "id": "20e52e3a-d3f5-4006-9f2d-5e743fab072e",
   "metadata": {},
   "outputs": [
    {
     "name": "stdout",
     "output_type": "stream",
     "text": [
      "5\n"
     ]
    },
    {
     "data": {
      "text/plain": [
       "['South Extension', 'Malviya Nagar', 'Dwarka', 'Chattarpur', 'Rohini']"
      ]
     },
     "execution_count": 137,
     "metadata": {},
     "output_type": "execute_result"
    }
   ],
   "source": [
    "# return the leat expensive cost\n",
    "min_cost = min(region_costs)\n",
    "# Find the region with 0 costs\n",
    "indices = [idx for idx in range(len(region_costs)) if region_costs[idx]==min_cost]\n",
    "print(len(indices)) # there are 306 stores with 0 costs in Delhi city\n",
    "# extract the name of the subregion, and remove duplicates\n",
    "dup_names = [region_names[idx] for idx in indices]\n",
    "list(set(dup_names))\n",
    "names = [name for name in list(set(dup_names)) if name!=\"link\"]\n",
    "names"
   ]
  },
  {
   "cell_type": "markdown",
   "id": "66c5e674-0d42-4f59-8d9f-4370c2c0566e",
   "metadata": {},
   "source": [
    "### 10. Top 5 most popular restaurant chains in India? Q: w.r.t rating\n",
    "- **Pablo Premium Kitchen**\n",
    "- **Kavya Bakery**\n",
    "- **Milan Restaurant**\n",
    "- **Mahi Fast Food**\n",
    "- **Maa Ki Rasoi**"
   ]
  },
  {
   "cell_type": "code",
   "execution_count": 138,
   "id": "5d58aef7-0cbf-4fb2-9705-0cd9b6e96450",
   "metadata": {},
   "outputs": [
    {
     "data": {
      "text/plain": [
       "['Pablo Premium Kitchen',\n",
       " 'Kavya Bakery',\n",
       " 'Milan Restaurant',\n",
       " 'Mahi Fast Food',\n",
       " 'Maa Ki Rasoi']"
      ]
     },
     "execution_count": 138,
     "metadata": {},
     "output_type": "execute_result"
    }
   ],
   "source": [
    "# create df to store whole res names and corresponding ratings \n",
    "sorted_df_all = sorted(df_res_rates_all.items(), key=lambda x: x[1], reverse=True)\n",
    "# sort the df, and extract res with top 5 ratings\n",
    "top_5_India = [item[0] for item in sorted_df_all[:5]]\n",
    "top_5_India"
   ]
  },
  {
   "cell_type": "markdown",
   "id": "35d1370f-ab40-45aa-b2dc-0fe75747062a",
   "metadata": {},
   "source": [
    "### 11. Which restaurant in Pune has the most number of people visiting?\n",
    "#### Ans: **NIC Natural Ice Creams**"
   ]
  },
  {
   "cell_type": "code",
   "execution_count": 172,
   "id": "e5887272-173a-47ef-95e6-0cb2e1a600af",
   "metadata": {},
   "outputs": [],
   "source": [
    "city = \"Pune\"\n",
    "sub_names = list(data[city].keys())\n",
    "sub_names = [sub_name for sub_name in sub_names if sub_name != \"link\"]\n",
    "rating_counts, res_names = [], []\n",
    "num_regions = 0\n",
    "\n",
    "for sub_name in sub_names:\n",
    "    regions = data[city][sub_name][\"restaurants\"].keys()\n",
    "    for region in regions:\n",
    "        num_regions+=1    \n",
    "        try:\n",
    "            rating_count = data[city][sub_name][\"restaurants\"][region][\"rating_count\"]\n",
    "            if rating_count == \"Too Few Ratings\" or rating_count == \"NA\":\n",
    "                rating_count = 0\n",
    "            else:\n",
    "                rating_count = float(rating_count.split()[0][:-1])\n",
    "            \n",
    "            name = data[city][sub_name][\"restaurants\"][region][\"name\"]\n",
    "            res_names.append(name)\n",
    "            rating_counts.append(rating_count)\n",
    "        except:\n",
    "            pass\n",
    "\n",
    "df = dict(zip(res_names, rating_counts))"
   ]
  },
  {
   "cell_type": "code",
   "execution_count": 174,
   "id": "c27a6b8c-8ac4-4b26-b1e5-a5747a1c73a3",
   "metadata": {},
   "outputs": [
    {
     "data": {
      "text/plain": [
       "'NIC Natural Ice Creams'"
      ]
     },
     "execution_count": 174,
     "metadata": {},
     "output_type": "execute_result"
    }
   ],
   "source": [
    "# restaurants sorting by rating counts\n",
    "sorted_df = sorted(df.items(), key=lambda x: x[1], reverse=True)\n",
    "sorted_df[0][0]"
   ]
  },
  {
   "cell_type": "markdown",
   "id": "f23fd9d1-b433-409d-b91b-92b890f0da5c",
   "metadata": {},
   "source": [
    "### 12. Top 10 Restaurants with Maximum Ratings in Bangalore (Q: rating or rating_count)\n",
    "- **HRX by Eatfit**\n",
    "- **JUST CREAMERY - Artisanal Healthy Ice Cream**\n",
    "- **Creams and Bites**\n",
    "- **Bansal's Thali & Combo Meals**\n",
    "- **The Chinese Connection**\n",
    "- **THE INDIAN SAMOSA**\n",
    "- **Mamaji PavBhaji**\n",
    "- **HUNGER TREATS**\n",
    "- **Snack Ride**\n",
    "- **Fresh crunch pizza**"
   ]
  },
  {
   "cell_type": "code",
   "execution_count": 194,
   "id": "84c4c6af-e686-4082-b982-e790a5c8ae87",
   "metadata": {},
   "outputs": [],
   "source": [
    "# Extract restaurants with top 10 highest ratings in Banglore\n",
    "city = \"Bangalore\"\n",
    "rating, res = [], []\n",
    "sub_names = list(data[city].keys())\n",
    "sub_names = [sub_name for sub_name in sub_names if sub_name!=\"link\"]\n",
    "for sub_name in sub_names:\n",
    "    regions = data[city][sub_name][\"restaurants\"].keys()\n",
    "    for region in regions:\n",
    "        try:\n",
    "            rating_for_res = data[city][sub_name][\"restaurants\"][region][\"rating\"]\n",
    "            res_name = data[city][sub_name][\"restaurants\"][region][\"name\"]\n",
    "            if rating_for_res== \"--\": rating_for_res = 0\n",
    "            rating.append(float(rating_for_res))\n",
    "            res.append(res_name)\n",
    "        except: pass\n",
    "df = dict(zip(res, rating))\n"
   ]
  },
  {
   "cell_type": "code",
   "execution_count": 198,
   "id": "c10c0ef2-465c-44c9-b889-2bacc53548c8",
   "metadata": {},
   "outputs": [
    {
     "data": {
      "text/plain": [
       "['HRX by Eatfit',\n",
       " 'JUST CREAMERY - Artisanal Healthy Ice Cream',\n",
       " 'Creams and Bites',\n",
       " \"Bansal's Thali & Combo Meals\",\n",
       " 'The Chinese Connection',\n",
       " 'THE INDIAN SAMOSA',\n",
       " 'Mamaji PavBhaji',\n",
       " 'HUNGER TREATS',\n",
       " 'Snack Ride',\n",
       " 'Fresh crunch pizza']"
      ]
     },
     "execution_count": 198,
     "metadata": {},
     "output_type": "execute_result"
    }
   ],
   "source": [
    "sorted_df = sorted(df.items(), key=lambda x: x[1], reverse=True)\n",
    "top_10_Bangalore = [item[0] for item in sorted_df[:10]]\n",
    "top_10_Bangalore"
   ]
  },
  {
   "cell_type": "markdown",
   "id": "90787c55-712c-4ada-abb2-c15387bf0bbf",
   "metadata": {},
   "source": [
    "### 13. Top 10 Restaurant in Patna w.r.t rating \n",
    "- **Kwality Walls Frozen Dessert and Ice Cream Shop**\n",
    "- **Slurpy Shakes**\n",
    "- **Kouzina Kafe The Food Court**\n",
    "- **Cupcake Bliss Cake & Desserts**\n",
    "- **Burger It Up**\n",
    "- **GARAGE KITCHEN**\n",
    "- **Indiana Burgers**\n",
    "- **The Dessert Zone**\n",
    "- **Pure Veg Meals by Lunchbox**\n",
    "- **KINGDOM OF MOMOS**"
   ]
  },
  {
   "cell_type": "code",
   "execution_count": 208,
   "id": "d66ad113-9178-463e-a05e-35f7e56ffb8e",
   "metadata": {},
   "outputs": [],
   "source": [
    "# Extract restaurants with top 10 highest ratings in Banglore\n",
    "city = \"Patna\"\n",
    "region_codes = list(data[city][\"restaurants\"].keys())\n",
    "region_codes = [code for code in region_codes if code!=\"link\"]\n",
    "ratings, res_names = [], []\n",
    "for region_code in region_codes:\n",
    "    res_name = data[city][\"restaurants\"][region_code][\"name\"]\n",
    "    rating_for_res = data[city][\"restaurants\"][region_code][\"rating\"]\n",
    "    try:\n",
    "        if rating_for_res== \"--\" or rating_for_res==\"NA\": rating_for_res = 0\n",
    "        ratings.append(float(rating_for_res))\n",
    "        res_names.append(res_name)\n",
    "    except:\n",
    "        pass\n",
    "df = dict(zip(res_names, ratings)) \n"
   ]
  },
  {
   "cell_type": "code",
   "execution_count": 207,
   "id": "cdd73e2c-7001-4673-aca1-1a63aec8fb29",
   "metadata": {},
   "outputs": [
    {
     "data": {
      "text/plain": [
       "['Kwality Walls Frozen Dessert and Ice Cream Shop',\n",
       " 'Slurpy Shakes',\n",
       " 'Kouzina Kafe The Food Court',\n",
       " 'Cupcake Bliss Cake & Desserts',\n",
       " 'Burger It Up',\n",
       " 'GARAGE KITCHEN',\n",
       " 'Indiana Burgers',\n",
       " 'The Dessert Zone',\n",
       " 'Pure Veg Meals by Lunchbox',\n",
       " 'KINGDOM OF MOMOS']"
      ]
     },
     "execution_count": 207,
     "metadata": {},
     "output_type": "execute_result"
    }
   ],
   "source": [
    "sorted_df = sorted(df.items(), key=lambda x: x[1], reverse=True)\n",
    "top_10_Panta = [item[0] for item in sorted_df[:10]]\n",
    "top_10_Panta"
   ]
  }
 ],
 "metadata": {
  "kernelspec": {
   "display_name": "gfg-env",
   "language": "python",
   "name": "gfg-env"
  },
  "language_info": {
   "codemirror_mode": {
    "name": "ipython",
    "version": 3
   },
   "file_extension": ".py",
   "mimetype": "text/x-python",
   "name": "python",
   "nbconvert_exporter": "python",
   "pygments_lexer": "ipython3",
   "version": "3.9.15"
  }
 },
 "nbformat": 4,
 "nbformat_minor": 5
}
